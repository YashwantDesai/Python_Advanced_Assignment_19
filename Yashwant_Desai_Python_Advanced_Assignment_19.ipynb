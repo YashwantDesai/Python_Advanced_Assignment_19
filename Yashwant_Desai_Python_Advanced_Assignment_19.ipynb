{
 "cells": [
  {
   "cell_type": "markdown",
   "id": "0c27a818",
   "metadata": {},
   "source": [
    "# Yashwant Desai –  Python_Advanced_Assignment_19"
   ]
  },
  {
   "cell_type": "markdown",
   "id": "5f7b2ad0",
   "metadata": {},
   "source": [
    "# Q1. Define the relationship between a class and its instances. Is it a one-to-one or a one-to-many partnership, for example?"
   ]
  },
  {
   "cell_type": "markdown",
   "id": "55b58f62",
   "metadata": {},
   "source": [
    "The relationship between a class and its instances is typically a one-to-many partnership.This means that a class serves as a blueprint or template for creating multiple instances of that class. Each instance is a distinct object with its own set of attributes and can have its own state and behavior"
   ]
  },
  {
   "cell_type": "code",
   "execution_count": 2,
   "id": "bdae94c0",
   "metadata": {},
   "outputs": [
    {
     "name": "stdout",
     "output_type": "stream",
     "text": [
      "Ramesh (ID 101) - Average Grade: 87.5\n",
      "Suresh (ID 102) - Average Grade: 85.0\n"
     ]
    }
   ],
   "source": [
    "class Student:\n",
    "    def __init__(self, name, student_id):\n",
    "        self.name = name\n",
    "        self.student_id = student_id\n",
    "        self.grades = []\n",
    "\n",
    "    def add_grade(self, grade):\n",
    "        self.grades.append(grade)\n",
    "\n",
    "    def get_average_grade(self):\n",
    "        if len(self.grades) == 0:\n",
    "            return \"No grades available\"\n",
    "        else:\n",
    "            return sum(self.grades) / len(self.grades)\n",
    "\n",
    "student1 = Student(\"Ramesh\", 101)\n",
    "student2 = Student(\"Suresh\", 102)\n",
    "student1.add_grade(90)\n",
    "student1.add_grade(85)\n",
    "student2.add_grade(78)\n",
    "student2.add_grade(92)\n",
    "print(f\"{student1.name} (ID {student1.student_id}) - Average Grade: {student1.get_average_grade()}\")\n",
    "print(f\"{student2.name} (ID {student2.student_id}) - Average Grade: {student2.get_average_grade()}\")"
   ]
  },
  {
   "cell_type": "markdown",
   "id": "2c4b34e8",
   "metadata": {},
   "source": [
    "In above example, the Student class represents student objects. Each student instance (e.g., student1 and student2) has its own attributes, such as a name, a student ID, and a list of grades"
   ]
  },
  {
   "cell_type": "markdown",
   "id": "130b80bf",
   "metadata": {},
   "source": [
    "# Q2. What kind of data is held only in an instance?"
   ]
  },
  {
   "cell_type": "markdown",
   "id": "296d2f7c",
   "metadata": {},
   "source": [
    "An instance data reers to data that is specific to an instance of a class. Each instance of a class can have its own unique set of instance data. This data is typically stored as instance variables which are defined within the methods of a class and are accessed using the \"self\" keywords within those method.Instance data is distinct from class data which is shared amoung all instances of a class."
   ]
  },
  {
   "cell_type": "code",
   "execution_count": 4,
   "id": "28dd19a0",
   "metadata": {},
   "outputs": [
    {
     "name": "stdout",
     "output_type": "stream",
     "text": [
      "Ramesh's enrolled courses:\n",
      "Math\n",
      "History\n",
      "Suresh's enrolled courses:\n",
      "Science\n"
     ]
    }
   ],
   "source": [
    "class Student:\n",
    "    def __init__(self, name, student_id):\n",
    "        self.name = name          \n",
    "        self.student_id = student_id  \n",
    "        self.courses = []         \n",
    "\n",
    "    def enroll(self, course):\n",
    "        self.courses.append(course)\n",
    "\n",
    "    def display_courses(self):\n",
    "        print(f\"{self.name}'s enrolled courses:\")\n",
    "        for course in self.courses:\n",
    "            print(course)\n",
    "student1 = Student(\"Ramesh\", 101)\n",
    "student2 = Student(\"Suresh\", 102)\n",
    "student1.enroll(\"Math\")\n",
    "student1.enroll(\"History\")\n",
    "student2.enroll(\"Science\")\n",
    "student1.display_courses()\n",
    "student2.display_courses()"
   ]
  },
  {
   "cell_type": "markdown",
   "id": "2f818b60",
   "metadata": {},
   "source": [
    "# Q3. What kind of knowledge is stored in a class?"
   ]
  },
  {
   "cell_type": "markdown",
   "id": "c705cfd6",
   "metadata": {},
   "source": [
    "A class is a blueprint for creating objects and it can store the following types of knowledge.\n",
    "o Instance variables: These are variables that store data unique to each instance of the class. They are defined within methods using the \"self\" keyword. Instance varialbles represent the state of individual objects created from the class i.e. in a Person class you might have instance variables like name,age, address etc.\n",
    "o Class variables: Class variables are shared amoung all instances of a classs. They are defined within the class but outside of any method and are accessed using the class name i.e. Car class might have a class variable to keep track of the total number of cars produced.\n",
    "o Methods: These are functions defined within a class that can perform actions or operations on the data stored in instances of the class. They define the behavior of the class. Method can also access and manipulate both instance and class variables.\n",
    "o Contructor: The contructor metod initializes instance variables when an object is created. It allow you to set the intial state of an object i.e. Book class the constructor can set the \"title\",\"author\" and other attributes. "
   ]
  },
  {
   "cell_type": "code",
   "execution_count": 5,
   "id": "0c5b001e",
   "metadata": {},
   "outputs": [
    {
     "name": "stdout",
     "output_type": "stream",
     "text": [
      "Hello, my name is Ramesh and I am 25 years old.\n",
      "Hello, my name is Suresh and I am 30 years old.\n",
      "Total people: 2\n"
     ]
    }
   ],
   "source": [
    "class Person:\n",
    "    total_people = 0\n",
    "\n",
    "    def __init__(self, name, age):\n",
    "\n",
    "        self.name = name\n",
    "        self.age = age\n",
    "        Person.total_people += 1\n",
    "\n",
    "    def say_hello(self):\n",
    "        print(f\"Hello, my name is {self.name} and I am {self.age} years old.\")\n",
    "person1 = Person(\"Ramesh\", 25)\n",
    "person2 = Person(\"Suresh\", 30)\n",
    "person1.say_hello()\n",
    "person2.say_hello()\n",
    "print(f\"Total people: {Person.total_people}\")"
   ]
  },
  {
   "cell_type": "markdown",
   "id": "7dc04975",
   "metadata": {},
   "source": [
    "# Q4. What exactly is a method, and how is it different from a regular function?"
   ]
  },
  {
   "cell_type": "markdown",
   "id": "7492a8b5",
   "metadata": {},
   "source": [
    "A method is a function that is associated with an object, and it is defined within a class. Methods are a way to define the behavior of objects created from a class. A method is like a special function that belongs to an object (like a function for a specific thing). It can do things with the object's data and perform actions related to that object.\n",
    "\n",
    "A regular function is a more general function that doesn't belong to any specific object. It can be used for any purpose and doesn't have direct access to an object's data.\n",
    "\n",
    "Methods are like actions a specific object can perform, while regular functions are like general tools that can be used in various situations."
   ]
  },
  {
   "cell_type": "code",
   "execution_count": 8,
   "id": "49edb1d5",
   "metadata": {},
   "outputs": [
    {
     "name": "stdout",
     "output_type": "stream",
     "text": [
      "The area of the circle is 78.5\n"
     ]
    }
   ],
   "source": [
    "class Circle:\n",
    "    def __init__(self, radius):\n",
    "        self.radius = radius\n",
    "\n",
    "    def area(self):\n",
    "        return 3.14 * self.radius * self.radius\n",
    "circle1 = Circle(5)\n",
    "circle1_area = circle1.area()\n",
    "print(f\"The area of the circle is {circle1_area}\")"
   ]
  },
  {
   "cell_type": "markdown",
   "id": "75749bce",
   "metadata": {},
   "source": [
    "# Q5. Is inheritance supported in Python, and if so, what is the syntax?"
   ]
  },
  {
   "cell_type": "markdown",
   "id": "b882a3df",
   "metadata": {},
   "source": [
    "Yes, inheritance is supported in Python. Inheritance is a fundamental concept in object-oriented programming that allows you to create a new class based on an existing class. The new class inherits attributes and behaviors (variables and methods) from the existing class, and you can also extend or override those attributes and behaviors in the new class.\n",
    "\n",
    "The syntax for defining a derived class (subclass or child class) that inherits from a base class (superclass or parent class) in Python is as follows:\n",
    "\n",
    "class BaseClass:\n",
    "\n",
    "      Base class attributes and methods\n",
    "\n",
    "class DerivedClass(BaseClass):\n",
    "\n",
    "      Additional attributes and methods specific to the derived class\n"
   ]
  },
  {
   "cell_type": "code",
   "execution_count": 10,
   "id": "ec4fd5e5",
   "metadata": {},
   "outputs": [
    {
     "name": "stdout",
     "output_type": "stream",
     "text": [
      "Tomy says Woof!\n",
      "Summy says Meow!\n"
     ]
    }
   ],
   "source": [
    "class Animal:\n",
    "    def __init__(self, name):\n",
    "        self.name = name\n",
    "\n",
    "    def speak(self):\n",
    "        pass\n",
    "\n",
    "class Dog(Animal):\n",
    "    def speak(self):\n",
    "        return f\"{self.name} says Woof!\"\n",
    "\n",
    "class Cat(Animal):\n",
    "    def speak(self):\n",
    "        return f\"{self.name} says Meow!\"\n",
    "\n",
    "dog = Dog(\"Tomy\")\n",
    "cat = Cat(\"Summy\")\n",
    "\n",
    "print(dog.speak())  \n",
    "print(cat.speak())  "
   ]
  },
  {
   "cell_type": "markdown",
   "id": "005380e8",
   "metadata": {},
   "source": [
    "# Q6. How much encapsulation (making instance or class variables private) does Python support?"
   ]
  },
  {
   "cell_type": "raw",
   "id": "1e2fc020",
   "metadata": {},
   "source": [
    "Python support encapulation to certain extent through naming conventions and access control but it does not enforce strict access control like some other programming languages i.e. Java,C++. \n",
    "\n",
    "To make something private, you can add two underscores at the start of its name, like __my_private_var.\n",
    "To make something protected, you can add one underscore at the start, like _my_protected_var.\n",
    "However, these are just naming hints. Python doesn't lock them away, so you can still access them if you really want to."
   ]
  },
  {
   "cell_type": "markdown",
   "id": "e3e73a79",
   "metadata": {},
   "source": [
    "# Q7. How do you distinguish between a class variable and an instance variable?"
   ]
  },
  {
   "cell_type": "markdown",
   "id": "c67d0249",
   "metadata": {},
   "source": [
    "Below is the difference between class variable and an instance variable\n",
    "\n",
    "o Class variable defined outside methods \n",
    "\n",
    "o Instance variable defined within methods\n",
    "\n",
    "o Class variable shared amoung all instances\n",
    "\n",
    "o Instance variable is specific to each instance\n",
    "\n",
    "o Class variable's access using class name or instances\n",
    "\n",
    "o Instance variable's access using \"self\" within methods\n",
    "\n",
    "o Class variable's purpose to get common data for all instances \n",
    "\n",
    "o Instance variable's purpose to get unique data for each instance\n",
    "\n",
    "o Class variable's changes affect all instances\n",
    "\n",
    "o Instance variable's changes affect specific instance\n",
    "\n"
   ]
  },
  {
   "cell_type": "markdown",
   "id": "c7fccd90",
   "metadata": {},
   "source": [
    "# Q8. When, if ever, can self be included in a class's method definitions?"
   ]
  },
  {
   "cell_type": "markdown",
   "id": "3cf2a107",
   "metadata": {},
   "source": [
    "In Python, you should always use self in instance method definitions for classes. The use of self is a fundamental and necessary part of Python's object-oriented programming model. Omitting self is not recommended and is not considered standard practice.\n",
    "\n",
    "self is used to represent the instance itself within methods. It allows you to access and manipulate instance-specific data and to call other methods of the same class. Not using self in instance methods would result in incorrect behavior and make the code difficult to understand and maintain.\n",
    "\n",
    "Therefore, in Python, you should always use self in instance method definitions, and there are no valid scenarios where it should be omitted."
   ]
  },
  {
   "cell_type": "markdown",
   "id": "ce500fd7",
   "metadata": {},
   "source": [
    "# Q9. What is the difference between the _ _add_ _ and the _ _radd_ _ methods?"
   ]
  },
  {
   "cell_type": "raw",
   "id": "f0281309",
   "metadata": {},
   "source": [
    "Below is the difference between the __add__ and the __radd__ methods\n",
    "\n",
    "o __add__ define left side addition behavior\n",
    "o __radd__ define right side addition behavior\n",
    "o __add__ is called when your object is on the left side of + operator i.e. your_object + other_object\n",
    "o __radd__ is called when your object is on the right side of + operator and the left operand doesnt have its __add__ method\n",
    "\n",
    "Below is an example"
   ]
  },
  {
   "cell_type": "code",
   "execution_count": 11,
   "id": "409b13fc",
   "metadata": {},
   "outputs": [
    {
     "name": "stdout",
     "output_type": "stream",
     "text": [
      "8\n",
      "7\n"
     ]
    }
   ],
   "source": [
    "class MyNumber:\n",
    "    def __init__(self, value):\n",
    "        self.value = value\n",
    "\n",
    "    def __add__(self, other):\n",
    "        if isinstance(other, MyNumber):\n",
    "            return MyNumber(self.value + other.value)\n",
    "        else:\n",
    "            return MyNumber(self.value + other)\n",
    "\n",
    "    def __radd__(self, other):\n",
    "        return MyNumber(self.value + other)\n",
    "num1 = MyNumber(5)\n",
    "num2 = MyNumber(3)\n",
    "result1 = num1 + num2  \n",
    "print(result1.value)  \n",
    "\n",
    "result2 = 2 + num1  \n",
    "print(result2.value)  "
   ]
  },
  {
   "cell_type": "markdown",
   "id": "35978bc7",
   "metadata": {},
   "source": [
    "# Q10. When is it necessary to use a reflection method? When do you not need it, even though you support the operation in question?"
   ]
  },
  {
   "cell_type": "markdown",
   "id": "ed84e2e3",
   "metadata": {},
   "source": [
    "Use reflection Methods When:\n",
    "\n",
    "You want to customize the behavior of built-in operations or operators for objects of your custom class.\n",
    "\n",
    "You need specific custom behavior that differs from Python's default behavior.\n",
    "\n",
    "You want your objects to seamlessly work with built-in operators and functions.\n",
    "\n",
    "Do Not Need Reflection Methods When:\n",
    "\n",
    "Python's default behavior for a particular operation is satisfactory for your needs.\n",
    "\n",
    "Your class is simple and doesn't require custom behavior for specific operations.\n",
    "\n",
    "You have methods in your class that already handle the desired behavior, making reflection methods unnecessary.\n",
    "\n",
    "Reflection methods are a way to tailor how your custom objects interact with built-in operations, providing flexibility and customization when needed.\n"
   ]
  },
  {
   "cell_type": "markdown",
   "id": "2e5fce58",
   "metadata": {},
   "source": [
    "# Q11. What is the _ _iadd_ _ method called?"
   ]
  },
  {
   "cell_type": "markdown",
   "id": "1f4e61f2",
   "metadata": {},
   "source": [
    "The __iadd__ method in Python is used to define the behavior of the += (in-place addition) operator for objects of a custom class. When you use += with an instance of your class, Python calls the __iadd__ method, allowing you to specify how the object should be modified in response to the in-place addition operation. This method is part of a group of in-place operators that enable you to customize how your objects interact with built-in operations that modify the object itself.\n",
    "\n",
    "Below is an example"
   ]
  },
  {
   "cell_type": "code",
   "execution_count": 12,
   "id": "44e51d4b",
   "metadata": {},
   "outputs": [
    {
     "name": "stdout",
     "output_type": "stream",
     "text": [
      "8\n",
      "10\n"
     ]
    }
   ],
   "source": [
    "class MyNumber:\n",
    "    def __init__(self, value):\n",
    "        self.value = value\n",
    "\n",
    "    def __iadd__(self, other):\n",
    "        if isinstance(other, MyNumber):\n",
    "            self.value += other.value\n",
    "        else:\n",
    "            self.value += other\n",
    "        return self\n",
    "    \n",
    "num1 = MyNumber(5)\n",
    "num2 = MyNumber(3)\n",
    "\n",
    "num1 += num2  \n",
    "print(num1.value) \n",
    "\n",
    "num1 += 2  \n",
    "print(num1.value)  "
   ]
  },
  {
   "cell_type": "markdown",
   "id": "9e888018",
   "metadata": {},
   "source": [
    "# Q12. Is the _ _init_ _ method inherited by subclasses? What do you do if you need to customize its behavior within a subclass?"
   ]
  },
  {
   "cell_type": "markdown",
   "id": "6193cf3e",
   "metadata": {},
   "source": [
    "The __init__ method is not inherited by subclasses in Python.\n",
    "To customize the behavior of the __init__ method within a subclass:\n",
    "\n",
    "o We can call the parent class's __init__ method using super() to reuse the parent class's initialization logic and add or override behavior specific to the subclass.\n",
    "\n",
    "o We can override the __init__ method entirely to define a new initialization process specific to the subclass, replacing the parent class's initialization if necessary.\n",
    "\n",
    "These approaches allow us to tailor the initialization of instances in subclasses while maintaining flexibility and control over the initialization process."
   ]
  },
  {
   "cell_type": "code",
   "execution_count": 13,
   "id": "31ae9451",
   "metadata": {},
   "outputs": [],
   "source": [
    "class Parent:\n",
    "    def __init__(self, x, y):\n",
    "        self.x = x\n",
    "        self.y = y\n",
    "\n",
    "class Child(Parent):\n",
    "    def __init__(self, x, y, z):\n",
    "        super().__init__(x, y)  \n",
    "        self.z = z"
   ]
  },
  {
   "cell_type": "code",
   "execution_count": 14,
   "id": "1f479b52",
   "metadata": {},
   "outputs": [],
   "source": [
    "class Parent:\n",
    "    def __init__(self, x, y):\n",
    "        self.x = x\n",
    "        self.y = y\n",
    "\n",
    "class Child(Parent):\n",
    "    def __init__(self, x, y, z):\n",
    "        self.x = x  \n",
    "        self.y = y  \n",
    "        self.z = z  "
   ]
  },
  {
   "cell_type": "markdown",
   "id": "dda7d5b1",
   "metadata": {},
   "source": [
    "# Done all 12 questions "
   ]
  },
  {
   "cell_type": "markdown",
   "id": "a04469f9",
   "metadata": {},
   "source": [
    "# Regards,Yashwant"
   ]
  }
 ],
 "metadata": {
  "kernelspec": {
   "display_name": "Python 3 (ipykernel)",
   "language": "python",
   "name": "python3"
  },
  "language_info": {
   "codemirror_mode": {
    "name": "ipython",
    "version": 3
   },
   "file_extension": ".py",
   "mimetype": "text/x-python",
   "name": "python",
   "nbconvert_exporter": "python",
   "pygments_lexer": "ipython3",
   "version": "3.9.13"
  }
 },
 "nbformat": 4,
 "nbformat_minor": 5
}
